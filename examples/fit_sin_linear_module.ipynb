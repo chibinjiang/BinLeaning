{
 "cells": [
  {
   "cell_type": "code",
   "execution_count": 1,
   "id": "400d61e0",
   "metadata": {},
   "outputs": [],
   "source": [
    "import math\n",
    "import torch"
   ]
  },
  {
   "cell_type": "code",
   "execution_count": 2,
   "id": "608cf63f",
   "metadata": {},
   "outputs": [],
   "source": [
    "x = torch.linspace(-math.pi, math.pi, 2000)\n",
    "y = torch.sin(x)"
   ]
  },
  {
   "cell_type": "code",
   "execution_count": 3,
   "id": "999fcc7a",
   "metadata": {},
   "outputs": [
    {
     "data": {
      "text/plain": [
       "(tensor([1., 2., 3.]),\n",
       " tensor([[ -3.1416,   9.8696, -31.0063],\n",
       "         [ -3.1384,   9.8499, -30.9133],\n",
       "         [ -3.1353,   9.8301, -30.8205],\n",
       "         ...,\n",
       "         [  3.1353,   9.8301,  30.8205],\n",
       "         [  3.1384,   9.8499,  30.9133],\n",
       "         [  3.1416,   9.8696,  31.0063]]))"
      ]
     },
     "execution_count": 3,
     "metadata": {},
     "output_type": "execute_result"
    }
   ],
   "source": [
    "# power: x**1, x**2, x**3\n",
    "p = torch.Tensor([1, 2, 3])\n",
    "xx = x.unsqueeze(-1).pow(p)\n",
    "p, xx"
   ]
  },
  {
   "cell_type": "code",
   "execution_count": null,
   "id": "33112161",
   "metadata": {},
   "outputs": [],
   "source": []
  }
 ],
 "metadata": {
  "kernelspec": {
   "display_name": "Python 3 (ipykernel)",
   "language": "python",
   "name": "python3"
  },
  "language_info": {
   "codemirror_mode": {
    "name": "ipython",
    "version": 3
   },
   "file_extension": ".py",
   "mimetype": "text/x-python",
   "name": "python",
   "nbconvert_exporter": "python",
   "pygments_lexer": "ipython3",
   "version": "3.9.10"
  }
 },
 "nbformat": 4,
 "nbformat_minor": 5
}
